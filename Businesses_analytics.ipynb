{
  "nbformat": 4,
  "nbformat_minor": 0,
  "metadata": {
    "colab": {
      "name": "Businesses_analytics",
      "provenance": [],
      "collapsed_sections": []
    },
    "kernelspec": {
      "name": "python3",
      "display_name": "Python 3"
    }
  },
  "cells": [
    {
      "cell_type": "markdown",
      "metadata": {
        "id": "Fh9DDaXK24Oc",
        "colab_type": "text"
      },
      "source": [
        "Business Analytics task on SampleSuperstore data to identify the weak areas in store and to gain profit from them by using EDA.\n",
        "\n",
        "\n",
        "\n",
        "\n",
        "\n",
        "\n"
      ]
    },
    {
      "cell_type": "code",
      "metadata": {
        "id": "u9dYBWt6cSLK",
        "colab_type": "code",
        "colab": {}
      },
      "source": [
        "#importing the required libraries.\n",
        "import numpy as np\n",
        "import pandas as pd \n",
        "import matplotlib.pyplot as plt\n",
        "import seaborn as sns\n",
        "%matplotlib inline"
      ],
      "execution_count": null,
      "outputs": []
    },
    {
      "cell_type": "code",
      "metadata": {
        "id": "Yt9z5HzKe2bu",
        "colab_type": "code",
        "colab": {}
      },
      "source": [
        "#importing the dataset\n",
        "data = pd.read_csv(\"SampleSuperstore - SampleSuperstore.csv\")\n",
        "print(\"Data imported successfully\")"
      ],
      "execution_count": null,
      "outputs": []
    },
    {
      "cell_type": "code",
      "metadata": {
        "id": "FpPBxH5UleUA",
        "colab_type": "code",
        "colab": {}
      },
      "source": [
        "#Top values of the dataset\n",
        "data.head()"
      ],
      "execution_count": null,
      "outputs": []
    },
    {
      "cell_type": "code",
      "metadata": {
        "id": "tsZ354rRlkQk",
        "colab_type": "code",
        "colab": {}
      },
      "source": [
        "#Bottom values of the dataset\n",
        "data.tail()"
      ],
      "execution_count": null,
      "outputs": []
    },
    {
      "cell_type": "code",
      "metadata": {
        "id": "Asom5Ip2lx5M",
        "colab_type": "code",
        "colab": {}
      },
      "source": [
        "#Shape of the dataset(i.e no.of rows and columns of the dataset)\n",
        "data.shape"
      ],
      "execution_count": null,
      "outputs": []
    },
    {
      "cell_type": "code",
      "metadata": {
        "id": "lI-0f6ohne0T",
        "colab_type": "code",
        "colab": {}
      },
      "source": [
        "#Columns of the dataset\n",
        "data.columns"
      ],
      "execution_count": null,
      "outputs": []
    },
    {
      "cell_type": "code",
      "metadata": {
        "id": "tCuHAdI2lyA7",
        "colab_type": "code",
        "colab": {}
      },
      "source": [
        "#Describing the dataset\n",
        "data.describe()"
      ],
      "execution_count": null,
      "outputs": []
    },
    {
      "cell_type": "code",
      "metadata": {
        "id": "E29HFeXulyUs",
        "colab_type": "code",
        "colab": {}
      },
      "source": [
        "#Check for missing values\n",
        "data.isnull().sum()"
      ],
      "execution_count": null,
      "outputs": []
    },
    {
      "cell_type": "code",
      "metadata": {
        "id": "rQn2VmQFlx_M",
        "colab_type": "code",
        "colab": {}
      },
      "source": [
        "#Check for duplicate values\n",
        "data.duplicated().sum()"
      ],
      "execution_count": null,
      "outputs": []
    },
    {
      "cell_type": "code",
      "metadata": {
        "id": "IFntSPR4lxxH",
        "colab_type": "code",
        "colab": {}
      },
      "source": [
        "#Dropping the duplicate values\n",
        "data.drop_duplicates(subset=None,keep='first',inplace=True)"
      ],
      "execution_count": null,
      "outputs": []
    },
    {
      "cell_type": "code",
      "metadata": {
        "id": "7fACJ5F7nN_J",
        "colab_type": "code",
        "colab": {}
      },
      "source": [
        "data.duplicated().sum()"
      ],
      "execution_count": null,
      "outputs": []
    },
    {
      "cell_type": "code",
      "metadata": {
        "id": "bDKTG9l5nfhn",
        "colab_type": "code",
        "colab": {}
      },
      "source": [
        "#Information about dataset\n",
        "data.info()"
      ],
      "execution_count": null,
      "outputs": []
    },
    {
      "cell_type": "code",
      "metadata": {
        "id": "gG9YDlyYneJu",
        "colab_type": "code",
        "colab": {}
      },
      "source": [
        "#number of unique values in dataset\n",
        "data.nunique()"
      ],
      "execution_count": null,
      "outputs": []
    },
    {
      "cell_type": "markdown",
      "metadata": {
        "id": "EKFOv0Py753y",
        "colab_type": "text"
      },
      "source": [
        "By this we can observe information is related to only one country,so there is no affect in analysing it."
      ]
    },
    {
      "cell_type": "code",
      "metadata": {
        "id": "YdId6fwSnd5B",
        "colab_type": "code",
        "colab": {}
      },
      "source": [
        "#Dropping the Country column\n",
        "data = data.drop('Country',axis=1)\n",
        "data.head()"
      ],
      "execution_count": null,
      "outputs": []
    },
    {
      "cell_type": "markdown",
      "metadata": {
        "id": "rRxRpbx78fI1",
        "colab_type": "text"
      },
      "source": [
        "Analysis of data-\"Product level\""
      ]
    },
    {
      "cell_type": "code",
      "metadata": {
        "id": "akCaYnrGoRYe",
        "colab_type": "code",
        "colab": {}
      },
      "source": [
        "#For each category\n",
        "data['Category'].unique()"
      ],
      "execution_count": null,
      "outputs": []
    },
    {
      "cell_type": "code",
      "metadata": {
        "id": "-mKXwR_JoJW9",
        "colab_type": "code",
        "colab": {}
      },
      "source": [
        "data['Category'].value_counts()"
      ],
      "execution_count": null,
      "outputs": []
    },
    {
      "cell_type": "code",
      "metadata": {
        "id": "cF3Z8lZsoJjm",
        "colab_type": "code",
        "colab": {}
      },
      "source": [
        "#Visualisation\n",
        "plt.figure(figsize=(4,3))\n",
        "sns.countplot(x='Category',data=data)\n",
        "plt.show()"
      ],
      "execution_count": null,
      "outputs": []
    },
    {
      "cell_type": "markdown",
      "metadata": {
        "id": "gBnlKD619TMR",
        "colab_type": "text"
      },
      "source": [
        "By this plot we can observe Office supplies have more demand"
      ]
    },
    {
      "cell_type": "code",
      "metadata": {
        "id": "2MGXt_9FoJrq",
        "colab_type": "code",
        "colab": {}
      },
      "source": [
        "#For each sub-category\n",
        "data['Sub-Category'].unique()"
      ],
      "execution_count": null,
      "outputs": []
    },
    {
      "cell_type": "code",
      "metadata": {
        "id": "x8LTYRJWoJzs",
        "colab_type": "code",
        "colab": {}
      },
      "source": [
        "data['Sub-Category'].value_counts()"
      ],
      "execution_count": null,
      "outputs": []
    },
    {
      "cell_type": "code",
      "metadata": {
        "id": "zN97H3XloJ1z",
        "colab_type": "code",
        "colab": {}
      },
      "source": [
        "#Visualisation\n",
        "plt.figure(figsize=(18,5))\n",
        "sns.countplot(x='Sub-Category',data=data)\n",
        "plt.show()"
      ],
      "execution_count": null,
      "outputs": []
    },
    {
      "cell_type": "markdown",
      "metadata": {
        "id": "W4uCVcdI9nMc",
        "colab_type": "text"
      },
      "source": [
        "Binder and Paper is having more demand as per sub-category"
      ]
    },
    {
      "cell_type": "code",
      "metadata": {
        "id": "N1t2D_lLoJ5e",
        "colab_type": "code",
        "colab": {}
      },
      "source": [
        "#plot on Total Profit Vs sales per Category\n",
        "data.groupby('Category')['Profit','Sales'].agg(['sum']).plot.bar(figsize=(8,5))\n",
        "plt.title('Total Profit Vs sales per Category')\n",
        "plt.show()"
      ],
      "execution_count": null,
      "outputs": []
    },
    {
      "cell_type": "markdown",
      "metadata": {
        "id": "_WLDYonI-_YW",
        "colab_type": "text"
      },
      "source": [
        "By this we can observe furniture section as very less profit although it has good sales.Technology section has good profit and sales"
      ]
    },
    {
      "cell_type": "code",
      "metadata": {
        "id": "6AsedVHGoJ6_",
        "colab_type": "code",
        "colab": {}
      },
      "source": [
        "#plot on Total Profit Vs sales per Sub-Category\n",
        "data.groupby('Sub-Category')['Profit','Sales'].agg(['sum']).plot.bar(figsize=(8,8))\n",
        "plt.title('Total Profit Vs sales per Sub-Category')\n",
        "plt.show()"
      ],
      "execution_count": null,
      "outputs": []
    },
    {
      "cell_type": "markdown",
      "metadata": {
        "id": "iMar8nt7ADHA",
        "colab_type": "text"
      },
      "source": [
        "By this we can observe Copiers,Phones,Paper and accessories give more profit,loss in selling Tables and Book cases "
      ]
    },
    {
      "cell_type": "code",
      "metadata": {
        "id": "gWxdjD5soJ_J",
        "colab_type": "code",
        "colab": {}
      },
      "source": [
        "data.groupby('Sub-Category').sum()['Discount'].plot.bar(figsize=(25,5))\n",
        "plt.show()"
      ],
      "execution_count": null,
      "outputs": []
    },
    {
      "cell_type": "markdown",
      "metadata": {
        "id": "f6htIK6MBuwV",
        "colab_type": "text"
      },
      "source": [
        "More discount was given for binder that may be reason to increase the sell of binder"
      ]
    },
    {
      "cell_type": "code",
      "metadata": {
        "id": "qUx7qYzeoKAx",
        "colab_type": "code",
        "colab": {}
      },
      "source": [
        "plt.figure(figsize=(8,5))\n",
        "data1=data[['Sales','Quantity','Discount','Profit']]\n",
        "sns.heatmap(data.corr(),annot=True)\n",
        "plt.show()"
      ],
      "execution_count": null,
      "outputs": []
    },
    {
      "cell_type": "markdown",
      "metadata": {
        "id": "3zZXm-O2B9C-",
        "colab_type": "text"
      },
      "source": [
        "By this we can observe the positive correlation between Profit and sales,can observe when sales increases the profit also increases."
      ]
    },
    {
      "cell_type": "code",
      "metadata": {
        "id": "UJ9xTJazwdwB",
        "colab_type": "code",
        "colab": {}
      },
      "source": [
        "data.groupby('Sub-Category')['Quantity'].agg(['sum']).plot.bar(figsize=(10,5))\n",
        "plt.show()"
      ],
      "execution_count": null,
      "outputs": []
    },
    {
      "cell_type": "markdown",
      "metadata": {
        "id": "9Kw3OouPDzAj",
        "colab_type": "text"
      },
      "source": [
        "By this we can observe binder and paper are sold in more quantity."
      ]
    },
    {
      "cell_type": "code",
      "metadata": {
        "id": "YY7FdhyvweY_",
        "colab_type": "code",
        "colab": {}
      },
      "source": [
        "plt.figure(figsize=(20,5))\n",
        "sns.countplot(x=\"Sub-Category\", hue=\"Ship Mode\",data=data)\n",
        "plt.show()"
      ],
      "execution_count": null,
      "outputs": []
    },
    {
      "cell_type": "markdown",
      "metadata": {
        "id": "UIsDGLGDEMsL",
        "colab_type": "text"
      },
      "source": [
        "Standard class mode is mostly used for delivery"
      ]
    },
    {
      "cell_type": "code",
      "metadata": {
        "id": "B0xoosudwepD",
        "colab_type": "code",
        "colab": {}
      },
      "source": [
        "sns.lmplot(x=\"Profit\",y=\"Sales\",data=data,fit_reg=False,col=\"Ship Mode\")\n",
        "plt.show()"
      ],
      "execution_count": null,
      "outputs": []
    },
    {
      "cell_type": "markdown",
      "metadata": {
        "id": "fdnedcQmEczM",
        "colab_type": "text"
      },
      "source": [
        "By this we can observe profit is very high when ship mode is standard class."
      ]
    },
    {
      "cell_type": "markdown",
      "metadata": {
        "id": "A2Uf1qiKE_Aq",
        "colab_type": "text"
      },
      "source": [
        "Consumer Analytics"
      ]
    },
    {
      "cell_type": "code",
      "metadata": {
        "id": "qaSC4aQSwfwd",
        "colab_type": "code",
        "colab": {}
      },
      "source": [
        "plt.figure(figsize=(5,5))\n",
        "sns.countplot(x='Segment',data=data)\n",
        "plt.show()"
      ],
      "execution_count": null,
      "outputs": []
    },
    {
      "cell_type": "markdown",
      "metadata": {
        "id": "aqFVKhGOFGnH",
        "colab_type": "text"
      },
      "source": [
        "Consumer segment has more distribution"
      ]
    },
    {
      "cell_type": "code",
      "metadata": {
        "id": "yNZc3ql_0dDo",
        "colab_type": "code",
        "colab": {}
      },
      "source": [
        "plt.figure(figsize=(18,5))\n",
        "sns.countplot(x='Sub-Category',hue=\"Region\",data=data)\n",
        "plt.show()"
      ],
      "execution_count": null,
      "outputs": []
    },
    {
      "cell_type": "markdown",
      "metadata": {
        "id": "AjozHsQRFXUK",
        "colab_type": "text"
      },
      "source": [
        "By this we can observe people from west and east part are ordering more from sample store"
      ]
    },
    {
      "cell_type": "code",
      "metadata": {
        "id": "BCY41Zii0dVE",
        "colab_type": "code",
        "colab": {
          "base_uri": "https://localhost:8080/",
          "height": 334
        },
        "outputId": "d37cb8a9-8c1a-4be3-f4fa-5ef53cdccd41"
      },
      "source": [
        "plt.figure(figsize=(6,5))\n",
        "sns.countplot(x='Category',hue=\"Region\",data=data)\n",
        "plt.show()"
      ],
      "execution_count": 21,
      "outputs": [
        {
          "output_type": "display_data",
          "data": {
            "image/png": "[encoded data removed]",
            "text/plain": [
              "<Figure size 432x360 with 1 Axes>"
            ]
          },
          "metadata": {
            "tags": [],
            "needs_background": "light"
          }
        }
      ]
    },
    {
      "cell_type": "code",
      "metadata": {
        "id": "EIyZjdjd0d60",
        "colab_type": "code",
        "colab": {}
      },
      "source": [
        "#city wise profit and loss\n",
        "fig, axes = plt.subplots(1,2,figsize=(30,5))\n",
        "data.groupby('City').sum()['Profit'].sort_values(ascending=True).head(15).plot.bar(ax=axes[0])\n",
        "data.groupby('City').sum()['Profit'].sort_values(ascending=False).head(15).plot.bar(ax=axes[1])\n",
        "plt.show()"
      ],
      "execution_count": null,
      "outputs": []
    },
    {
      "cell_type": "code",
      "metadata": {
        "id": "YEcNKY28zaxr",
        "colab_type": "code",
        "colab": {}
      },
      "source": [
        "#state wise profit and loss\n",
        "fig, axes = plt.subplots(1,2,figsize=(30,5))\n",
        "data.groupby('State').sum()['Profit'].sort_values(ascending=True).head(15).plot.bar(ax=axes[0])\n",
        "data.groupby('State').sum()['Profit'].sort_values(ascending=False).head(15).plot.bar(ax=axes[1])\n",
        "plt.show()"
      ],
      "execution_count": null,
      "outputs": []
    },
    {
      "cell_type": "markdown",
      "metadata": {
        "id": "E7xkrk1E2oqf",
        "colab_type": "text"
      },
      "source": [
        "Insights derived:\n",
        "->Imporovements should be made for same day shipment mode.\n",
        "\n",
        "->We have to work more in the Southern region of USA for better business.\n",
        "\n",
        "->Office Supplies are excellent. We have to work more on Furniture and Technology Category of business.\n",
        "\n",
        "->There are very less people working as Copiers. So, the recruitment should be increased.\n",
        "\n",
        "->Maximum number of people are from California and New York. We should expand in other parts of USA as well.\n",
        "\n",
        "->Profit and Sales are not too much related, i.e., they are not directly proportional. Hence we have tp work separately gor increasing bith, sales and profit.\n",
        "\n",
        "->Profit and Discount show very weak and negative relationship. That should be kept in mind before taking any other decision related to business.\n",
        "\n",
        "\n",
        "\n"
      ]
    }
  ]
}